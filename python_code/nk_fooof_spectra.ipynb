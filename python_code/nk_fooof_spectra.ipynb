{
 "cells": [
  {
   "cell_type": "code",
   "execution_count": 28,
   "id": "b9dbbcea-3bd6-4b7c-962b-d69806da82ae",
   "metadata": {},
   "outputs": [],
   "source": [
    "import matplotlib.pyplot as plt\n",
    "import numpy as np\n",
    "import pandas as pd\n",
    "import scipy\n",
    "import time\n",
    "import sys\n",
    "import mat73\n",
    "import os\n",
    "import re\n",
    "from scipy import stats\n",
    "import shutil\n",
    "\n",
    "# FOOOF objects and functions\n",
    "from fooof import FOOOFGroup\n",
    "from fooof import FOOOF\n",
    "from fooof.plts.spectra import plot_spectrum\n",
    "\n",
    "from fooof.plts.annotate import plot_annotated_model\n",
    "# RBL function\n",
    "from  plt_save_aperiodic_overtime import  plt_save_aperiodic_overtime"
   ]
  },
  {
   "cell_type": "code",
   "execution_count": 3,
   "id": "8ec42669-dd02-4b01-9049-f5fc162ee1d8",
   "metadata": {},
   "outputs": [],
   "source": [
    "nk_dir       = '/Volumes/DBS Pain 3/nk_device_data/processed/fooof_specs (30s_prior_to_survey)/'\n",
    "\n",
    "proc_dir     = '/Users/Leriche/pia_server/datastore_spirit/human/nk_device_data/ephy_analysis/spectra/'\n",
    "proc_subdir  = 'fooofed'\n",
    "\n",
    "#sense_dict   = pd.read_excel(rcs_dir + 'rcs_sensing_channels_per_hemisphere.xlsx')"
   ]
  },
  {
   "cell_type": "code",
   "execution_count": 13,
   "id": "479c38dc-12df-4c07-9d47-877ad524cc48",
   "metadata": {},
   "outputs": [],
   "source": [
    "pts = ['RCS02', 'RCS04', 'RCS05', 'RCS06', 'RCS07']\n",
    "i = 1"
   ]
  },
  {
   "cell_type": "code",
   "execution_count": 14,
   "id": "c28e8039-4466-40b8-bbfd-77b95d58556f",
   "metadata": {},
   "outputs": [
    {
     "data": {
      "text/plain": [
       "'/Volumes/DBS Pain 3/nk_device_data/processed/fooof_specs (30s_prior_to_survey)/RCS04/'"
      ]
     },
     "execution_count": 14,
     "metadata": {},
     "output_type": "execute_result"
    }
   ],
   "source": [
    "raw_dir = nk_dir + pts[i] + '/'\n",
    "raw_dir"
   ]
  },
  {
   "cell_type": "code",
   "execution_count": 52,
   "id": "8d223477-fcb9-47ab-a209-580abac2e739",
   "metadata": {},
   "outputs": [
    {
     "name": "stdout",
     "output_type": "stream",
     "text": [
      "RCS04\n",
      "['LACC 5-3', 'RACC 5-3', 'LACC 5-4', 'RACC 5-4']\n"
     ]
    }
   ],
   "source": [
    "print(pts[i])\n",
    "tmp_labs = [re.split(r'(\\d+)', ch_lab[4:]) for ch_lab in np.load(raw_dir + 'ch_labs.npy')]\n",
    "ch_labs = [ch_lab[0].replace(\" \", \"\") + ' ' + ch_lab[1] +'-' + ch_lab[3] for ch_lab in tmp_labs]\n",
    "print(ch_labs)"
   ]
  },
  {
   "cell_type": "code",
   "execution_count": null,
   "id": "1c958411-5064-4d87-ae3b-2578a9524692",
   "metadata": {},
   "outputs": [],
   "source": [
    " np.load(raw_dir + 'ch_labs.npy')"
   ]
  }
 ],
 "metadata": {
  "kernelspec": {
   "display_name": "Python 3 (ipykernel)",
   "language": "python",
   "name": "python3"
  },
  "language_info": {
   "codemirror_mode": {
    "name": "ipython",
    "version": 3
   },
   "file_extension": ".py",
   "mimetype": "text/x-python",
   "name": "python",
   "nbconvert_exporter": "python",
   "pygments_lexer": "ipython3",
   "version": "3.10.5"
  }
 },
 "nbformat": 4,
 "nbformat_minor": 5
}
