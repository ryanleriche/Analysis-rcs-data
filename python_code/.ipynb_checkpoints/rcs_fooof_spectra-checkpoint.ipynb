{
 "cells": [
  {
   "cell_type": "markdown",
   "id": "f89a03bb-b15d-4e56-b454-ddc72c183dc6",
   "metadata": {},
   "source": [
    "## FOOOF on RCS streaming sessions\n",
    "Inputs\n",
    "\n",
    "power spectra outputted from MATLAB per RCS streaming channel\n",
    "\n",
    "* (leveraging the 'Analysis-rcs-data' toolbox (Sellers et al., 2021 *Front. Hum. Neurosci.*)\n",
    "* prioritzing a similar onboard RCS power calculation\n",
    "\n",
    "Goals\n",
    "\n",
    "Use Fitting Oscillations One and Over F (FOOOF) algorithm to identify band peaks and aperiodic contributions in order to:\n",
    "* remove aperiodic contributions of \n",
    "* see stability of band peak frequency over first month of Stage 1\n",
    "* leverage aperiodic offset and exponent as plausible representations of the lead settling over the first month\n",
    "    * before stim is turned on so stim-related transient/lasting spectra effects are NOT confounding (besides lasting stage 0 changes)\n"
   ]
  },
  {
   "cell_type": "code",
   "execution_count": 1,
   "id": "26ec4a15-0c77-4c43-ab76-8e23de07b74c",
   "metadata": {
    "tags": []
   },
   "outputs": [],
   "source": [
    "import matplotlib.pyplot as plt\n",
    "import numpy as np\n",
    "import pandas as pd\n",
    "import scipy\n",
    "import time\n",
    "import sys\n",
    "import os\n",
    "from scipy import stats\n",
    "import shutil\n",
    "\n",
    "# FOOOF objects and functions\n",
    "from fooof import FOOOFGroup\n",
    "from fooof import FOOOF\n",
    "from fooof.plts.spectra import plot_spectrum\n",
    "\n",
    "from fooof.plts.annotate import plot_annotated_model\n",
    "# RBL function\n",
    "from  plt_save_aperiodic_overtime import  plt_save_aperiodic_overtime\n",
    "from  import_RCS_spectra import import_RCS_spectra"
   ]
  },
  {
   "cell_type": "code",
   "execution_count": 2,
   "id": "75e77218-6b00-4d3d-ac41-ba4a4f7ae0b3",
   "metadata": {},
   "outputs": [
    {
     "name": "stdout",
     "output_type": "stream",
     "text": [
      "        RCS02R     RCS04R     RCS04L      RCS05R      RCS05L      RCS06R  \\\n",
      "0  RThal +10-8  RACC +3-0  LACC +3-0  RIFG +10-8  LACC +11-8  RSFG +10-8   \n",
      "1         none  RACC +3-1  LACC +3-1  RIFG +11-9  LACC +11-9  RSFG +11-9   \n",
      "\n",
      "        RCS06L      RCS07R      RCS07L  \n",
      "0  LCaud +10-8  RSGC +10-8  LSGC +10-8  \n",
      "1  LCaud +11-9  RSGC +11-9  LSGC +11-9  \n"
     ]
    }
   ],
   "source": [
    "### RBL inputs into general FOOOF approach below:\n",
    "dirs = {'raw':       '/Volumes/DBS Pain 3/rcs_device_data/processed/spectra_per_sess/',\n",
    "        'proc':      '/Users/Leriche/pia_server/datastore_spirit/human/rcs_chronic_pain/rcs_device_data/ephy_analysis/spectra_per_sess/',\n",
    "        'raw_sub':   '/stage1_only (pp work up)/',\n",
    "        'proc_sub':  'fooofed'}\n",
    "\n",
    "\n",
    "sense_homologs   = pd.read_excel(dirs['raw'] + 'rcs_sensing_channels_per_hemisphere.xlsx')\n",
    "print(sense_homologs)"
   ]
  },
  {
   "cell_type": "code",
   "execution_count": 3,
   "id": "e9919c8e-4da7-4b17-8aa3-a30e380a1ccf",
   "metadata": {},
   "outputs": [],
   "source": [
    "### RBL inputs into general FOOOF approach below:\n",
    "fooof_param = pd.DataFrame\n",
    "\n",
    "fooof_param.freq_range = [2, 40] \n",
    "\n",
    "fooof_param.err_thresh = 0.1\n",
    "\n",
    "## FOOOF alogirthim parameters (directly feed into FOOOF object)\n",
    "fooof_param.peak_width_limits   = [2.0, 5.0]      # narrowest to widest possible peak width\n",
    "fooof_param.max_n_peaks         = 4               # max number of peaks to fit\n",
    "fooof_param.min_peak_height     = 0.1             # min power (db) ABOVE flattened spectrum to be considered a peak\n",
    "fooof_param.peak_threshold      = 2               # min std(s) above flattened spectrum to be considered a peak\n",
    "fooof_param.aperiodic_mode      ='fixed'          # 'fixed' = 1/(f^x), but 'knee' = 1/(k + f^x)--the latter allows an inflection point in the aperiodic fit"
   ]
  },
  {
   "cell_type": "markdown",
   "id": "edfc94b6-e2b5-4dd5-89d1-f7d0e6e3ff79",
   "metadata": {},
   "source": [
    "### from FOOF analysis plot/save ACROSS sessions:\n",
    "\n",
    "* aperiodic fit\n",
    "    * use RBL's 'plt_save_aperiodic_overtime.py' to analyze longitudinal aperiodic fit changes\n",
    "     \n",
    "* relative power spectra (the power spectrum - aperiodic fit)\n",
    "\n",
    "* fooof parameters\n",
    "    * aperiodic exponent, and offset\n",
    "    * periodic center frequecy(ies), power peaks(s), band width(s)\n",
    "    * model error and r^2\n",
    "    \n",
    "* Spearman's correlation of time, aperiodic offset, and exponent\n",
    "\n"
   ]
  },
  {
   "cell_type": "code",
   "execution_count": 4,
   "id": "bfe50beb-1d2e-43fe-8035-7bb304dc9ee1",
   "metadata": {},
   "outputs": [],
   "source": [
    "def setup_fooof_dirs(pt_hemi, dirs):\n",
    "    # make nested folders for organized outputs\n",
    "    ### *PREVIOUS RUNS ARE DELETED* FOR TROUBLESHOOTING PURPOSES AND CLARITY\n",
    "    base_dir   = dirs['proc'] + pt_hemi +'/' + dirs['proc_sub'] + ' (' + fooof_param.aperiodic_mode +')' +'/'\n",
    "\n",
    "    fooof_dirs= {\n",
    "                'error':        base_dir + 'error_ge_' + str(fooof_param.err_thresh) + '/',\n",
    "                'aperiodic':    base_dir + 'aperiodic_fits/',\n",
    "                'pwr_spectra':  base_dir + 'pwr_spectra (aperiodic_fit_removed)/',\n",
    "                'aper_long':    base_dir + 'aperiodic_longitudinal/',\n",
    "                'fooof_spec':   base_dir + 'fooofed_spectra (aperiodic_fit_removed)/',\n",
    "                'fooof_data':   dirs['raw'] + pt_hemi + dirs['raw_sub']  + 'exported_fooof_data/'\n",
    "                }\n",
    "\n",
    "\n",
    "    for a_dir in fooof_dirs:\n",
    "        \n",
    "        tmp_dir = fooof_dirs[a_dir]\n",
    "        if os.path.exists(tmp_dir):\n",
    "            shutil.rmtree(tmp_dir)\n",
    "        if not os.path.exists(tmp_dir):\n",
    "            os.makedirs(tmp_dir)\n",
    "            \n",
    "    return  dirs.update(fooof_dirs)"
   ]
  },
  {
   "cell_type": "code",
   "execution_count": 15,
   "id": "9605ad59-732e-4414-a7cd-5a52cb075962",
   "metadata": {},
   "outputs": [],
   "source": [
    "def fooof_grp_plot_save(pt_hemi, dirs, ch_name, \n",
    "                        fooof_param,\n",
    "                        t_peri_ephy, fft_bins_inHz, spectra_oi):\n",
    "        # FOOOF all spectra individually in single run\n",
    "        fg = FOOOFGroup(\n",
    "                        peak_width_limits  = fooof_param.peak_width_limits, \n",
    "                        max_n_peaks        = fooof_param.max_n_peaks, \n",
    "                        min_peak_height    = fooof_param.min_peak_height,\n",
    "                        peak_threshold     = fooof_param.peak_threshold,\n",
    "                        aperiodic_mode     = fooof_param.aperiodic_mode)\n",
    "\n",
    "        # Model the power spectrum with FOOOF\n",
    "        fg.fit(fft_bins_inHz, spectra_oi, fooof_param.freq_range)\n",
    "\n",
    "        # save group report\n",
    "        fg.save_report(dirs['fooof_spec']  + ch_name + '_fooof_Group_report.pdf')\n",
    "\n",
    "        ### save aperiodic parameters, plot aperiodic to time correlction\n",
    "        plt_save_aperiodic_overtime(pt_hemi, dirs, ch_name,\n",
    "                                    fooof_param,\n",
    "                                    t_peri_ephy, fg)\n",
    "        \n",
    "        ### save periodic parameters, plot fooofed spectra\n",
    "        plt_save_periodic(pt_hemi, dirs, ch_name,\n",
    "                           fooof_param,\n",
    "                           t_peri_ephy, spectra_oi, fg)"
   ]
  },
  {
   "cell_type": "code",
   "execution_count": 16,
   "id": "e8d2f7c8-20f1-4286-97a0-2d9f5584dd65",
   "metadata": {},
   "outputs": [
    {
     "name": "stdout",
     "output_type": "stream",
     "text": [
      "/Volumes/DBS Pain 3/rcs_device_data/processed/spectra_per_sess/RCS02R/stage1_only (pp work up)/RCS02R_\n",
      "(4, 59, 513)\n",
      "['RACC +2-0', 'RACC +3-1', 'RThal +10-8', 'RThal +11-9']\n",
      "(513,)\n"
     ]
    },
    {
     "data": {
      "image/png": "[encoded data removed]",
      "text/plain": [
       "<Figure size 432x288 with 1 Axes>"
      ]
     },
     "metadata": {},
     "output_type": "display_data"
    },
    {
     "name": "stdout",
     "output_type": "stream",
     "text": [
      "Running FOOOFGroup across 59 power spectra.\n"
     ]
    },
    {
     "name": "stderr",
     "output_type": "stream",
     "text": [
      "/Library/Frameworks/Python.framework/Versions/3.10/lib/python3.10/site-packages/fooof/objs/group.py:378: VisibleDeprecationWarning: Creating an ndarray from ragged nested sequences (which is a list-or-tuple of lists-or-tuples-or ndarrays with different lengths or shapes) is deprecated. If you meant to do this, you must specify 'dtype=object' when creating the ndarray.\n",
      "  out = np.array([np.insert(getattr(data, name), 3, index, axis=1)\n"
     ]
    }
   ],
   "source": [
    "#pt_sides = ['RCS02R', 'RCS04R', 'RCS04L', 'RCS05R', 'RCS05L', 'RCS06R','RCS06L','RCS07L', 'RCS07R']\n",
    "\n",
    "pt_sides = ['RCS02R']\n",
    "for i in range(len(pt_sides)):\n",
    "    pwrspectra_by_sess, fft_bins_inHz, ch_names, parsed_db_oi = import_RCS_spectra(pt_sides[i], dirs)\n",
    "    \n",
    "    setup_fooof_dirs(pt_sides[i], dirs)\n",
    "    \n",
    "    bool_chan       = [any(a_ch == sense_homologs[pt_sides[i]]) for a_ch in ch_names]\n",
    "    ind_sense_chan  = [i for i, x in enumerate(bool_chan) if x]\n",
    "    \n",
    "    t_peri_ephy = parsed_db_oi.timeStart\n",
    "\n",
    "    for i_chan in ind_sense_chan:\n",
    "        spectra_oi = pwrspectra_by_sess[i_chan, :, :]\n",
    "    \n",
    "        fooof_grp_plot_save(pt_sides[i], dirs, ch_names[i_chan],\n",
    "                            fooof_param,\n",
    "                            t_peri_ephy, fft_bins_inHz, spectra_oi)\n",
    "        \n",
    "        ### only needed once per loop   \n",
    "        if i_chan ==3:\n",
    "            pd.DataFrame(fg.freqs).to_excel(dirs['fooof_data'] + 'fooof_freqs.xlsx', index=False)\n",
    "            print('See:   ' + dirs['error'] + '\\nfor spectra with model error >' +  str(fooof_param.err_thresh))\n"
   ]
  },
  {
   "cell_type": "code",
   "execution_count": 13,
   "id": "590d6a8a-e945-41e9-9b1e-d4c6d8f44fef",
   "metadata": {
    "tags": []
   },
   "outputs": [],
   "source": [
    "def plt_save_periodic(pt_hemi, dirs, ch_name,\n",
    "                       fooof_param,\n",
    "                       t_peri_ephy, spectra_oi, fg):\n",
    "    \n",
    "    import matplotlib.pyplot as plt\n",
    "    import numpy as np\n",
    "    import pandas as pd\n",
    "    import scipy\n",
    "    from scipy import stats\n",
    "    \n",
    "    from fooof import FOOOFGroup\n",
    "    from fooof import FOOOF\n",
    "    from fooof.plts.spectra import plot_spectrum\n",
    "\n",
    "    \n",
    "    ### view erroneuous FOOOF fits\n",
    "        # could iterate with lower errors for parameter optimization\n",
    "    to_check    = []\n",
    "    i_to_check  = []\n",
    "    for ind, res in enumerate(fg):\n",
    "        if res.error > fooof_param.err_thresh:\n",
    "            to_check.append(fg.get_fooof(ind, regenerate=True))\n",
    "            i_to_check.append(ind)\n",
    "\n",
    "    for ind, fm in enumerate(to_check):\n",
    "        _ = fm.plot()\n",
    "        fm.save_report(dirs['error'] + parsed_db_oi['sess_name'].iloc[i_to_check[ind]] + '_' + ch_name+'.pdf')\n",
    "        plt.close()\n",
    "\n",
    "\n",
    "    ### save/plot fooofed spectra - aperiodic fit\n",
    "    # this is the most processe version of the spectra--showing fitted peaks only\n",
    "    fooof_spectra_aperiodic_rmv  = np.zeros([spectra_oi.shape[0], fm._ap_fit.shape[0]])\n",
    "\n",
    "    _, ax = plt.subplots(figsize=(8, 6))\n",
    "    for i_sess in range(len(fg)):\n",
    "        fm = fg.get_fooof(ind=i_sess, regenerate=True)\n",
    "        tmp_spec = fm.fooofed_spectrum_ - fm._ap_fit\n",
    "\n",
    "        plot_spectrum(fm.freqs, tmp_spec, False,\n",
    "                      alpha=0.5, linestyle='dashed', ax=ax)\n",
    "\n",
    "        fooof_spectra_aperiodic_rmv[i_sess, :] = tmp_spec\n",
    "\n",
    "    avg_wo_aperiodic = np.mean(fooof_spectra_aperiodic_rmv,0)\n",
    "\n",
    "    plot_spectrum(fm.freqs, avg_wo_aperiodic , False,\n",
    "                      color='black', alpha=0.5, linestyle='solid', ax=ax)\n",
    "\n",
    "    plt.xlabel('frequency (Hz)')\n",
    "    plt.ylabel('log($mV^{2}$/Hz)')\n",
    "\n",
    "    plt.ylim([-1.25, 1.25])\n",
    "    plt.title('Per session FOOOFed power spectra with aperiodic component removed')\n",
    "\n",
    "\n",
    "    plt.savefig(dirs['fooof_spec'] + ch_name + '_fooof_spectra_aperiodic_rmv.pdf', bbox_inches='tight', dpi = 100)\n",
    "    plt.close()\n",
    "\n",
    "    ## save to xlsx file\n",
    "    pd.DataFrame(fooof_spectra_aperiodic_rmv).to_excel(\n",
    "        dirs['fooof_data'] + ch_name + '_pwr_spectra_aperiodic_rmv.xlsx', index=False)\n",
    "\n",
    "    ### repeat, but now for orignal power spectrum minus aperiodic fit \n",
    "    ## (no need to save as the raw and aperiodic fit as saved seperately already)\n",
    "\n",
    "    pwr_spectra_aperiodic_rmv  = np.zeros([spectra_oi.shape[0], fm._ap_fit.shape[0]])\n",
    "\n",
    "    _, ax = plt.subplots(figsize=(12, 10))\n",
    "    for i_sess in range(len(fg)):\n",
    "        fm = fg.get_fooof(ind=i_sess, regenerate=True)\n",
    "        tmp_spec = fm.power_spectrum - fm._ap_fit\n",
    "\n",
    "        plot_spectrum(fm.freqs, tmp_spec, False,\n",
    "                      alpha=0.5, linestyle='dashed', ax=ax)\n",
    "\n",
    "        pwr_spectra_aperiodic_rmv[i_sess, :] = tmp_spec\n",
    "\n",
    "    avg_wo_aperiodic = np.mean(pwr_spectra_aperiodic_rmv,0)\n",
    "\n",
    "    plot_spectrum(fm.freqs, avg_wo_aperiodic , False,\n",
    "                      color='black', alpha=0.5, linestyle='solid', ax=ax)\n",
    "\n",
    "    plt.xlabel('frequency (Hz)')\n",
    "    plt.ylabel('log($mV^{2}$/Hz)')\n",
    "\n",
    "    plt.ylim([-1.25, 1.25])\n",
    "    plt.title('Per session raw power spectra with aperiodic component removed')\n",
    "\n",
    "    plt.savefig(dirs['pwr_spectra'] + ch_name + '_pwr_spectra_aperiodic_rmv.pdf', bbox_inches='tight', dpi = 100)\n",
    "    plt.close()\n",
    "\n",
    "### END of MAIN FOOOF analysis\n",
    "\n",
    "#below is scratch code for grand-average viewing of the spectra if desired"
   ]
  },
  {
   "cell_type": "code",
   "execution_count": null,
   "id": "73179836-4ad8-4d21-a118-7e48d2ed63d8",
   "metadata": {},
   "outputs": [],
   "source": [
    "plot_annotated_model(fm)"
   ]
  },
  {
   "cell_type": "code",
   "execution_count": null,
   "id": "de49c24e-3839-4e07-bc92-0b1737e31210",
   "metadata": {},
   "outputs": [],
   "source": [
    "cln_spectrum_db = avg_wo_aperiodic +  np.mean(aperiodic_comp,0)"
   ]
  },
  {
   "cell_type": "code",
   "execution_count": null,
   "id": "67f4270e-4ca3-46a9-898e-816cc2599e8d",
   "metadata": {},
   "outputs": [],
   "source": [
    "cln_spectrum = np.power(10, cln_spectrum_db)"
   ]
  },
  {
   "cell_type": "code",
   "execution_count": null,
   "id": "bda07a00-efb7-4c5a-a7ec-432c4287ded2",
   "metadata": {},
   "outputs": [],
   "source": [
    "# Initialize a FOOOF model object with defined settings\n",
    "fm = FOOOF(fooof_param.peak_width_limits=[1.0, 5.0], fooof_param.max_n_peaks=5, fooof_param.min_peak_height=0.1,\n",
    "           fooof_param.peak_threshold=2, fooof_param.aperiodic_mode='fixed')\n",
    "\n",
    "fooof_param.freq_range = [1, 80]\n",
    "\n",
    "# Model the power spectrum with FOOOF, and print out a report\n",
    "fm.fit(fg.freqs, cln_spectrum, fooof_param.freq_range)\n",
    "fm.plot(plot_peaks='shade', peak_kwargs={'color' : 'green'})"
   ]
  },
  {
   "cell_type": "markdown",
   "id": "3d340325-a551-458a-92c1-5978ad82e82d",
   "metadata": {},
   "source": [
    "For demonstrative purposes, the fully annotated FOOOF model parameters"
   ]
  },
  {
   "cell_type": "code",
   "execution_count": null,
   "id": "2401d2bd-8f36-4359-af90-1b0144b4c970",
   "metadata": {
    "tags": []
   },
   "outputs": [],
   "source": [
    "# Plot an annotated version of the power spectrum model\n",
    "plot_annotated_model(fm)"
   ]
  },
  {
   "cell_type": "code",
   "execution_count": null,
   "id": "46ab95eb-c8bb-4ffb-b191-50af2c1e7d7e",
   "metadata": {},
   "outputs": [],
   "source": []
  }
 ],
 "metadata": {
  "kernelspec": {
   "display_name": "Python 3 (ipykernel)",
   "language": "python",
   "name": "python3"
  },
  "language_info": {
   "codemirror_mode": {
    "name": "ipython",
    "version": 3
   },
   "file_extension": ".py",
   "mimetype": "text/x-python",
   "name": "python",
   "nbconvert_exporter": "python",
   "pygments_lexer": "ipython3",
   "version": "3.10.5"
  }
 },
 "nbformat": 4,
 "nbformat_minor": 5
}
