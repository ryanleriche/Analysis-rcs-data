{
 "cells": [
  {
   "cell_type": "markdown",
   "id": "ac46b57d-67ab-43d4-867f-a4646c3d0541",
   "metadata": {},
   "source": []
  },
  {
   "cell_type": "code",
   "execution_count": 1,
   "id": "64496833-774a-4e91-be3a-aa107574effd",
   "metadata": {},
   "outputs": [],
   "source": [
    "import pandas as pd\n",
    "import numpy as np\n",
    "\n",
    "# Modelling\n",
    "from sklearn.ensemble import RandomForestClassifier\n",
    "from sklearn.linear_model import LogisticRegression\n",
    "from sklearn.ensemble import HistGradientBoostingClassifier\n",
    "\n",
    "\n",
    "from sklearn.metrics import accuracy_score, confusion_matrix, precision_score, recall_score, ConfusionMatrixDisplay\n",
    "from sklearn.model_selection import RandomizedSearchCV, train_test_split\n",
    "from scipy.stats import randint\n",
    "\n",
    "# Tree Visualisation\n",
    "from sklearn.tree import export_graphviz\n",
    "from IPython.display import Image\n",
    "\n",
    "\n",
    "import matplotlib.pyplot as plt\n",
    "import seaborn as sns\n",
    "sns.set_theme(style=\"ticks\", palette=\"pastel\")"
   ]
  },
  {
   "cell_type": "code",
   "execution_count": 5,
   "id": "51a30169-81d5-45b5-a88f-582f017808bb",
   "metadata": {},
   "outputs": [],
   "source": [
    "### RBL inputs into general FOOOF approach below:\n",
    "dirs = {'nk':       '/Volumes/DBS Pain 3/nk_device_data/processed/fooof_specs (30s_prior_to_survey, updated channels)/',\n",
    "        'rcs':      '/Volumes/DBS Pain 3/rcs_device_data/processed/spectra_per_sess/',\n",
    "        'rcs_sub':  '/stage1_only (pp work up)/30s_pre_survey/',\n",
    "        'both_sub': '/exported_fooof_data/'\n",
    "        }"
   ]
  },
  {
   "cell_type": "code",
   "execution_count": 6,
   "id": "22555fad-3a9c-4e54-869e-1c0a26c95c6b",
   "metadata": {},
   "outputs": [],
   "source": [
    "i        =0\n",
    "pts      = ['RCS02', 'RCS04', 'RCS05', 'RCS06', 'RCS07']\n",
    "pt_sides = ['RCS02R', 'RCS04R', 'RCS04L', 'RCS05R', 'RCS05L', 'RCS06R','RCS06L','RCS07L', 'RCS07R']"
   ]
  },
  {
   "cell_type": "code",
   "execution_count": 4,
   "id": "64d0a74c-2c24-472a-a93c-d65d320db41c",
   "metadata": {
    "tags": []
   },
   "outputs": [],
   "source": [
    "nk_bands = pd.read_excel(dirs['nk'] + 'ALL_bands.xlsx')\n",
    "rcs_bands = pd.read_excel(dirs['rcs'] + 'ALL_bands.xlsx')"
   ]
  },
  {
   "cell_type": "code",
   "execution_count": 5,
   "id": "a69f290a-730b-4275-82f8-c73b16705983",
   "metadata": {},
   "outputs": [
    {
     "data": {
      "text/html": [
       "<div>\n",
       "<style scoped>\n",
       "    .dataframe tbody tr th:only-of-type {\n",
       "        vertical-align: middle;\n",
       "    }\n",
       "\n",
       "    .dataframe tbody tr th {\n",
       "        vertical-align: top;\n",
       "    }\n",
       "\n",
       "    .dataframe thead th {\n",
       "        text-align: right;\n",
       "    }\n",
       "</style>\n",
       "<table border=\"1\" class=\"dataframe\">\n",
       "  <thead>\n",
       "    <tr style=\"text-align: right;\">\n",
       "      <th></th>\n",
       "      <th>power_band</th>\n",
       "      <th>peak_pwr</th>\n",
       "      <th>pt_hemi</th>\n",
       "      <th>stage</th>\n",
       "    </tr>\n",
       "  </thead>\n",
       "  <tbody>\n",
       "    <tr>\n",
       "      <th>0</th>\n",
       "      <td>theta_pwr</td>\n",
       "      <td>NaN</td>\n",
       "      <td>RCS02R</td>\n",
       "      <td>inpatient</td>\n",
       "    </tr>\n",
       "    <tr>\n",
       "      <th>1</th>\n",
       "      <td>theta_pwr</td>\n",
       "      <td>NaN</td>\n",
       "      <td>RCS02R</td>\n",
       "      <td>inpatient</td>\n",
       "    </tr>\n",
       "    <tr>\n",
       "      <th>2</th>\n",
       "      <td>theta_pwr</td>\n",
       "      <td>NaN</td>\n",
       "      <td>RCS02R</td>\n",
       "      <td>inpatient</td>\n",
       "    </tr>\n",
       "    <tr>\n",
       "      <th>3</th>\n",
       "      <td>theta_pwr</td>\n",
       "      <td>NaN</td>\n",
       "      <td>RCS02R</td>\n",
       "      <td>inpatient</td>\n",
       "    </tr>\n",
       "    <tr>\n",
       "      <th>4</th>\n",
       "      <td>theta_pwr</td>\n",
       "      <td>NaN</td>\n",
       "      <td>RCS02R</td>\n",
       "      <td>inpatient</td>\n",
       "    </tr>\n",
       "    <tr>\n",
       "      <th>...</th>\n",
       "      <td>...</td>\n",
       "      <td>...</td>\n",
       "      <td>...</td>\n",
       "      <td>...</td>\n",
       "    </tr>\n",
       "    <tr>\n",
       "      <th>9943</th>\n",
       "      <td>b_high_pwr</td>\n",
       "      <td>0.169596</td>\n",
       "      <td>RCS07R</td>\n",
       "      <td>ambulatory</td>\n",
       "    </tr>\n",
       "    <tr>\n",
       "      <th>9944</th>\n",
       "      <td>b_high_pwr</td>\n",
       "      <td>0.178597</td>\n",
       "      <td>RCS07R</td>\n",
       "      <td>ambulatory</td>\n",
       "    </tr>\n",
       "    <tr>\n",
       "      <th>9945</th>\n",
       "      <td>b_high_pwr</td>\n",
       "      <td>0.220496</td>\n",
       "      <td>RCS07R</td>\n",
       "      <td>ambulatory</td>\n",
       "    </tr>\n",
       "    <tr>\n",
       "      <th>9946</th>\n",
       "      <td>b_high_pwr</td>\n",
       "      <td>0.218387</td>\n",
       "      <td>RCS07R</td>\n",
       "      <td>ambulatory</td>\n",
       "    </tr>\n",
       "    <tr>\n",
       "      <th>9947</th>\n",
       "      <td>b_high_pwr</td>\n",
       "      <td>NaN</td>\n",
       "      <td>RCS07R</td>\n",
       "      <td>ambulatory</td>\n",
       "    </tr>\n",
       "  </tbody>\n",
       "</table>\n",
       "<p>9948 rows × 4 columns</p>\n",
       "</div>"
      ],
      "text/plain": [
       "      power_band  peak_pwr pt_hemi       stage\n",
       "0      theta_pwr       NaN  RCS02R   inpatient\n",
       "1      theta_pwr       NaN  RCS02R   inpatient\n",
       "2      theta_pwr       NaN  RCS02R   inpatient\n",
       "3      theta_pwr       NaN  RCS02R   inpatient\n",
       "4      theta_pwr       NaN  RCS02R   inpatient\n",
       "...          ...       ...     ...         ...\n",
       "9943  b_high_pwr  0.169596  RCS07R  ambulatory\n",
       "9944  b_high_pwr  0.178597  RCS07R  ambulatory\n",
       "9945  b_high_pwr  0.220496  RCS07R  ambulatory\n",
       "9946  b_high_pwr  0.218387  RCS07R  ambulatory\n",
       "9947  b_high_pwr       NaN  RCS07R  ambulatory\n",
       "\n",
       "[9948 rows x 4 columns]"
      ]
     },
     "execution_count": 5,
     "metadata": {},
     "output_type": "execute_result"
    }
   ],
   "source": [
    "melt_list     = []\n",
    "nk_bands_hemi = list(nk_bands.groupby(by='pt_hemi'))\n",
    "\n",
    "for i in range(len(pt_sides)):\n",
    "  \n",
    "    hemi_bands                   = pd.melt(nk_bands_hemi[i][1][['theta_pwr', 'alpha_pwr', 'b_low_pwr','b_high_pwr']])\n",
    "    hemi_bands.loc[:, 'pt_hemi'] = nk_bands_hemi[i][0]\n",
    "    hemi_bands.loc[:, 'stage']   = 'inpatient'\n",
    "    melt_list.append(hemi_bands)\n",
    "\n",
    "rcs_bands_hemi = list(rcs_bands.groupby(by='pt_hemi'))\n",
    "\n",
    "for i in range(len(pt_sides)):\n",
    "  \n",
    "    hemi_bands                   = pd.melt(rcs_bands_hemi[i][1][['theta_pwr', 'alpha_pwr', 'b_low_pwr','b_high_pwr']])\n",
    "    hemi_bands.loc[:, 'pt_hemi'] = rcs_bands_hemi[i][0]\n",
    "    hemi_bands.loc[:, 'stage']   = 'ambulatory'\n",
    "    melt_list.append(hemi_bands)\n",
    "\n",
    "    \n",
    "bands_melt = pd.concat(melt_list, ignore_index=True).rename(columns={\"variable\": \"power_band\", \"value\": \"peak_pwr\"})\n",
    "\n",
    "bands_melt"
   ]
  },
  {
   "cell_type": "code",
   "execution_count": null,
   "id": "760834f8-5699-4a94-981b-377cf0929cf8",
   "metadata": {},
   "outputs": [
    {
     "ename": "NameError",
     "evalue": "name 'plt' is not defined",
     "output_type": "error",
     "traceback": [
      "\u001b[0;31m---------------------------------------------------------------------------\u001b[0m",
      "\u001b[0;31mNameError\u001b[0m                                 Traceback (most recent call last)",
      "Cell \u001b[0;32mIn [1], line 1\u001b[0m\n\u001b[0;32m----> 1\u001b[0m fig \u001b[38;5;241m=\u001b[39m \u001b[43mplt\u001b[49m\u001b[38;5;241m.\u001b[39mfigure(figsize\u001b[38;5;241m=\u001b[39m(\u001b[38;5;241m16\u001b[39m, \u001b[38;5;241m10\u001b[39m))\n\u001b[1;32m      3\u001b[0m fig\u001b[38;5;241m.\u001b[39mpatch\u001b[38;5;241m.\u001b[39mset_facecolor(\u001b[38;5;124m'\u001b[39m\u001b[38;5;124mwhite\u001b[39m\u001b[38;5;124m'\u001b[39m)\n\u001b[1;32m      5\u001b[0m plt\u001b[38;5;241m.\u001b[39msubplots_adjust(top \u001b[38;5;241m=\u001b[39m \u001b[38;5;241m.95\u001b[39m, hspace \u001b[38;5;241m=\u001b[39m \u001b[38;5;241m0.25\u001b[39m, wspace \u001b[38;5;241m=\u001b[39m \u001b[38;5;241m0.25\u001b[39m)\n",
      "\u001b[0;31mNameError\u001b[0m: name 'plt' is not defined"
     ]
    }
   ],
   "source": [
    "fig = plt.figure(figsize=(16, 10))\n",
    "\n",
    "fig.patch.set_facecolor('white')\n",
    "\n",
    "plt.subplots_adjust(top = .95, hspace = 0.25, wspace = 0.25)\n",
    "\n",
    "for i in range(len(pt_sides)):\n",
    "    \n",
    "    ax = plt.subplot(3, 3, i+1)\n",
    "    plt.title(pt_sides[i], fontsize = 12)\n",
    "    \n",
    "    hemi_bands = bands_melt.loc[bands_melt.pt_hemi == pt_sides[i], :]\n",
    "\n",
    "\n",
    "\n",
    "    sns.boxplot(x    = \"power_band\",\n",
    "                y    = \"peak_pwr\",\n",
    "                hue  = \"stage\",\n",
    "                data = hemi_bands)\n",
    "    \n",
    "    ax.set_xlabel(\"\") \n",
    "    ax.set_ylabel(\"Periodic Power (db)\")\n",
    "    \n",
    "    plt.ylim([0,2])\n",
    "    if i>0:\n",
    "        ax.legend([],[], frameon=False)"
   ]
  },
  {
   "cell_type": "code",
   "execution_count": 6,
   "id": "91abd126-f365-43d4-919b-99a0c041c77d",
   "metadata": {},
   "outputs": [],
   "source": [
    "features = ['theta_freq', 'alpha_freq', 'b_low_freq','b_high_freq',\n",
    "            'theta_pwr', 'alpha_pwr', 'b_low_pwr','b_high_pwr',\n",
    "            'theta_width', 'alpha_width', 'b_low_width','b_high_width'];\n",
    "\n",
    "X        = nk_bands[features].values\n",
    "i_nan    = np.isnan(X)\n",
    "X[i_nan] = 0\n",
    "\n",
    "nk_bands[features]= X"
   ]
  },
  {
   "cell_type": "code",
   "execution_count": 11,
   "id": "5c751ade-8c7d-482e-ab6f-46408033dd1a",
   "metadata": {},
   "outputs": [],
   "source": [
    "# Split the data into training and testing sets\n",
    "X_train, X_test, y_train, y_test = train_test_split(\n",
    "                                                    nk_bands[features],\n",
    "                                                    nk_bands['pt_hemi'], \n",
    "                                                    test_size=0.1,\n",
    "                                                    random_state=42\n",
    "                                                    )"
   ]
  },
  {
   "cell_type": "code",
   "execution_count": 12,
   "id": "7d48a57d-1906-41d4-91ff-ed683b98aebf",
   "metadata": {},
   "outputs": [
    {
     "name": "stdout",
     "output_type": "stream",
     "text": [
      "Logistic Regression Accuracy: 0.5443037974683544\n"
     ]
    }
   ],
   "source": [
    "# Logistic Regression\n",
    "log_reg = LogisticRegression(max_iter=1000, random_state=42)\n",
    "log_reg.fit(X_train, y_train)\n",
    "y_pred_log_reg = log_reg.predict(X_test)\n",
    "\n",
    "accuracy_log_reg = accuracy_score(y_test, y_pred_log_reg)\n",
    "\n",
    "\n",
    "print(\"Logistic Regression Accuracy:\", accuracy_log_reg)"
   ]
  },
  {
   "cell_type": "code",
   "execution_count": 13,
   "id": "ebf61ce2-a7f5-4a47-b894-1dd80a134451",
   "metadata": {},
   "outputs": [
    {
     "name": "stdout",
     "output_type": "stream",
     "text": [
      "HistGradientBoostingClassifier Accuracy: 0.5759493670886076\n"
     ]
    }
   ],
   "source": [
    "his_boost = HistGradientBoostingClassifier(max_iter=100).fit(X_train, y_train)\n",
    "\n",
    "y_pred_hist   = his_boost.predict(X_test)\n",
    "accuracy_hist = accuracy_score(y_test, y_pred_hist)\n",
    "print(\"HistGradientBoostingClassifier Accuracy:\", accuracy_hist)"
   ]
  },
  {
   "cell_type": "code",
   "execution_count": 14,
   "id": "899c1861-8870-426c-9758-51b12ca645a7",
   "metadata": {
    "jupyter": {
     "source_hidden": true
    },
    "tags": []
   },
   "outputs": [
    {
     "name": "stdout",
     "output_type": "stream",
     "text": [
      "Random Forest Accuracy: 0.5886075949367089\n"
     ]
    }
   ],
   "source": [
    "# Random Forest\n",
    "rf_classifier = RandomForestClassifier(n_estimators=100)\n",
    "rf_classifier.fit(X_train, y_train)\n",
    "\n",
    "# Make predictions on the test set\n",
    "y_pred_rf     = rf_classifier.predict(X_test)\n",
    "# Calculate accuracy scores\n",
    "accuracy_rf = accuracy_score(y_test, y_pred_rf)\n",
    "\n",
    "print(\"Random Forest Accuracy:\", accuracy_rf)"
   ]
  },
  {
   "cell_type": "code",
   "execution_count": null,
   "id": "3bc23f85-a8eb-4111-8bd1-3bf5c25883da",
   "metadata": {},
   "outputs": [],
   "source": []
  },
  {
   "cell_type": "code",
   "execution_count": null,
   "id": "53c63d36-34e7-4da2-869f-57401e6d3742",
   "metadata": {},
   "outputs": [],
   "source": []
  },
  {
   "cell_type": "code",
   "execution_count": null,
   "id": "283c036b-28aa-4030-8d2e-d54d2e683ebf",
   "metadata": {},
   "outputs": [],
   "source": []
  }
 ],
 "metadata": {
  "kernelspec": {
   "display_name": "Python 3 (ipykernel)",
   "language": "python",
   "name": "python3"
  },
  "language_info": {
   "codemirror_mode": {
    "name": "ipython",
    "version": 3
   },
   "file_extension": ".py",
   "mimetype": "text/x-python",
   "name": "python",
   "nbconvert_exporter": "python",
   "pygments_lexer": "ipython3",
   "version": "3.10.5"
  }
 },
 "nbformat": 4,
 "nbformat_minor": 5
}
